{
 "cells": [
  {
   "cell_type": "code",
   "execution_count": 1,
   "id": "c8cd5c3c-f5c6-4694-ae53-81c61f827678",
   "metadata": {
    "tags": []
   },
   "outputs": [],
   "source": [
    "import streamlit as st\n",
    "import pickle as pkl"
   ]
  },
  {
   "cell_type": "code",
   "execution_count": null,
   "id": "bbe1a1ce-d0fd-43e1-ab61-c054739de51e",
   "metadata": {
    "tags": []
   },
   "outputs": [],
   "source": [
    "!streamlit run \"C:/Users/gkkha/Dhiraj/src/stroke.py\""
   ]
  },
  {
   "cell_type": "code",
   "execution_count": null,
   "id": "14191cf3-7360-4726-8fd3-171f184c8bfb",
   "metadata": {},
   "outputs": [],
   "source": []
  }
 ],
 "metadata": {
  "kernelspec": {
   "display_name": "Python 3 (ipykernel)",
   "language": "python",
   "name": "python3"
  },
  "language_info": {
   "codemirror_mode": {
    "name": "ipython",
    "version": 3
   },
   "file_extension": ".py",
   "mimetype": "text/x-python",
   "name": "python",
   "nbconvert_exporter": "python",
   "pygments_lexer": "ipython3",
   "version": "3.9.12"
  }
 },
 "nbformat": 4,
 "nbformat_minor": 5
}
